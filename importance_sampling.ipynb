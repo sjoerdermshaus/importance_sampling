{
 "cells": [
  {
   "cell_type": "code",
   "execution_count": 1,
   "metadata": {},
   "outputs": [],
   "source": [
    "from main import run, create_plot"
   ]
  },
  {
   "cell_type": "code",
   "execution_count": null,
   "metadata": {},
   "outputs": [
    {
     "name": "stdout",
     "output_type": "stream",
     "text": [
      "Sample size: 5000, Shift: 0.0, Sim size: 1000, Sim time: 1.4164\n",
      "Sample size: 5000, Shift: 0.5, Sim size: 1000, Sim time: 1.3913\n",
      "Sample size: 5000, Shift: 1.0, Sim size: 1000, Sim time: 1.5029\n",
      "Sample size: 5000, Shift: 1.5, Sim size: 1000, Sim time: 1.493\n",
      "Sample size: 5000, Shift: 2.0, Sim size: 1000, Sim time: 1.4936\n",
      "Sample size: 5000, Shift: 2.5, Sim size: 1000, Sim time: 1.4945\n",
      "Sample size: 5000, Shift: 3.0, Sim size: 1000, Sim time: 1.4824\n",
      "Sample size: 5000, Shift: 3.2905267314919255, Sim size: 1000, Sim time: 1.5878\n",
      "Sample size: 5000, Shift: 3.5, Sim size: 1000, Sim time: 1.5871\n",
      "Sample size: 5000, Shift: 4.0, Sim size: 1000, Sim time: 1.6086\n",
      "Sample size: 5000, Shift: 4.5, Sim size: 1000, Sim time: 1.5928\n",
      "Sample size: 5000, Shift: 5.0, Sim size: 1000, Sim time: 1.7021\n",
      "Sample size: 5000, Shift: 5.5, Sim size: 1000, Sim time: 1.7024\n",
      "Sample size: 5000, Shift: 6.0, Sim size: 1000, Sim time: 1.7104\n",
      "Sample size: 10000, Shift: 0.0, Sim size: 1000, Sim time: 1.8048\n",
      "Sample size: 10000, Shift: 0.5, Sim size: 1000, Sim time: 1.9029\n",
      "Sample size: 10000, Shift: 1.0, Sim size: 1000, Sim time: 2.0846\n",
      "Sample size: 10000, Shift: 1.5, Sim size: 1000, Sim time: 1.9268\n",
      "Sample size: 10000, Shift: 2.0, Sim size: 1000, Sim time: 1.9016\n",
      "Sample size: 10000, Shift: 2.5, Sim size: 1000, Sim time: 1.7842\n",
      "Sample size: 10000, Shift: 3.0, Sim size: 1000, Sim time: 1.9269\n",
      "Sample size: 10000, Shift: 3.2905267314919255, Sim size: 1000, Sim time: 1.9097\n",
      "Sample size: 10000, Shift: 3.5, Sim size: 1000, Sim time: 1.8125\n",
      "Sample size: 10000, Shift: 4.0, Sim size: 1000, Sim time: 1.8017\n",
      "Sample size: 10000, Shift: 4.5, Sim size: 1000, Sim time: 1.9298\n",
      "Sample size: 10000, Shift: 5.0, Sim size: 1000, Sim time: 2.0006\n",
      "Sample size: 10000, Shift: 5.5, Sim size: 1000, Sim time: 2.1149\n",
      "Sample size: 10000, Shift: 6.0, Sim size: 1000, Sim time: 1.9161\n",
      "Sample size: 50000, Shift: 0.0, Sim size: 1000, Sim time: 3.9016\n",
      "Sample size: 50000, Shift: 0.5, Sim size: 1000, Sim time: 3.9152\n",
      "Sample size: 50000, Shift: 1.0, Sim size: 1000, Sim time: 4.104\n",
      "Sample size: 50000, Shift: 1.5, Sim size: 1000, Sim time: 4.0303\n",
      "Sample size: 50000, Shift: 2.0, Sim size: 1000, Sim time: 4.2608\n",
      "Sample size: 50000, Shift: 2.5, Sim size: 1000, Sim time: 4.0155\n",
      "Sample size: 50000, Shift: 3.0, Sim size: 1000, Sim time: 4.0182\n",
      "Sample size: 50000, Shift: 3.2905267314919255, Sim size: 1000, Sim time: 4.0382\n",
      "Sample size: 50000, Shift: 3.5, Sim size: 1000, Sim time: 3.9055\n",
      "Sample size: 50000, Shift: 4.0, Sim size: 1000, Sim time: 3.9237\n",
      "Sample size: 50000, Shift: 4.5, Sim size: 1000, Sim time: 3.8152\n",
      "Sample size: 50000, Shift: 5.0, Sim size: 1000, Sim time: 3.8046\n",
      "Sample size: 50000, Shift: 5.5, Sim size: 1000, Sim time: 5.2988\n",
      "Sample size: 50000, Shift: 6.0, Sim size: 1000, Sim time: 7.7112\n",
      "Sample size: 100000, Shift: 0.0, Sim size: 1000, Sim time: 12.6723\n",
      "Sample size: 100000, Shift: 0.5, Sim size: 1000, Sim time: 8.6384\n",
      "Sample size: 100000, Shift: 1.0, Sim size: 1000, Sim time: 8.0231\n",
      "Sample size: 100000, Shift: 1.5, Sim size: 1000, Sim time: 8.0048\n",
      "Sample size: 100000, Shift: 2.0, Sim size: 1000, Sim time: 10.5596\n",
      "Sample size: 100000, Shift: 2.5, Sim size: 1000, Sim time: 11.3344\n",
      "Sample size: 100000, Shift: 3.0, Sim size: 1000, Sim time: 9.301\n",
      "Sample size: 100000, Shift: 3.2905267314919255, Sim size: 1000, Sim time: 7.7243\n",
      "Sample size: 100000, Shift: 3.5, Sim size: 1000, Sim time: 7.5408\n",
      "Sample size: 100000, Shift: 4.0, Sim size: 1000, Sim time: 11.959\n",
      "Sample size: 100000, Shift: 4.5, Sim size: 1000, Sim time: 11.5841\n",
      "Sample size: 100000, Shift: 5.0, Sim size: 1000, Sim time: 8.8804\n",
      "Sample size: 100000, Shift: 5.5, Sim size: 1000, Sim time: 7.15\n",
      "Sample size: 100000, Shift: 6.0, Sim size: 1000, Sim time: 7.1441\n",
      "Sample size: 500000, Shift: 0.0, Sim size: 1000, Sim time: 49.0623\n",
      "Sample size: 500000, Shift: 0.5, Sim size: 1000, Sim time: 48.5488\n",
      "Sample size: 500000, Shift: 1.0, Sim size: 1000, Sim time: 48.7941\n",
      "Sample size: 500000, Shift: 1.5, Sim size: 1000, Sim time: 47.7344\n",
      "Sample size: 500000, Shift: 2.0, Sim size: 1000, Sim time: 47.3633\n",
      "Sample size: 500000, Shift: 2.5, Sim size: 1000, Sim time: 47.6937\n",
      "Sample size: 500000, Shift: 3.0, Sim size: 1000, Sim time: 48.7277\n",
      "Sample size: 500000, Shift: 3.2905267314919255, Sim size: 1000, Sim time: 48.0138\n",
      "Sample size: 500000, Shift: 3.5, Sim size: 1000, Sim time: 47.0361\n",
      "Sample size: 500000, Shift: 4.0, Sim size: 1000, Sim time: 50.0507\n",
      "Sample size: 500000, Shift: 4.5, Sim size: 1000, Sim time: 48.8519\n",
      "Sample size: 500000, Shift: 5.0, Sim size: 1000, Sim time: 48.7744\n",
      "Sample size: 500000, Shift: 5.5, Sim size: 1000, Sim time: 47.8276\n",
      "Sample size: 500000, Shift: 6.0, Sim size: 1000, Sim time: 46.7931\n",
      "Sample size: 1000000, Shift: 0.0, Sim size: 1000, Sim time: 103.7735\n",
      "Sample size: 1000000, Shift: 0.5, Sim size: 1000, Sim time: 101.4461\n",
      "Sample size: 1000000, Shift: 1.0, Sim size: 1000, Sim time: 103.1402\n",
      "Sample size: 1000000, Shift: 1.5, Sim size: 1000, Sim time: 105.793\n",
      "Sample size: 1000000, Shift: 2.0, Sim size: 1000, Sim time: 103.2053\n",
      "Sample size: 1000000, Shift: 2.5, Sim size: 1000, Sim time: 102.2235\n",
      "Sample size: 1000000, Shift: 3.0, Sim size: 1000, Sim time: 98.748\n",
      "Sample size: 1000000, Shift: 3.2905267314919255, Sim size: 1000, Sim time: 98.8007\n",
      "Sample size: 1000000, Shift: 3.5, Sim size: 1000, Sim time: 109.5539\n",
      "Sample size: 1000000, Shift: 4.0, Sim size: 1000, Sim time: 107.9783\n",
      "Sample size: 1000000, Shift: 4.5, Sim size: 1000, Sim time: 105.6444\n",
      "Sample size: 1000000, Shift: 5.0, Sim size: 1000, Sim time: 105.5095\n",
      "Sample size: 1000000, Shift: 5.5, Sim size: 1000, Sim time: 101.3141\n"
     ]
    }
   ],
   "source": [
    "args, df = run()"
   ]
  },
  {
   "cell_type": "code",
   "execution_count": null,
   "metadata": {},
   "outputs": [],
   "source": [
    "fig = create_plot(args, df)"
   ]
  }
 ],
 "metadata": {
  "kernelspec": {
   "display_name": "Python 3",
   "language": "python",
   "name": "python3"
  },
  "language_info": {
   "codemirror_mode": {
    "name": "ipython",
    "version": 3
   },
   "file_extension": ".py",
   "mimetype": "text/x-python",
   "name": "python",
   "nbconvert_exporter": "python",
   "pygments_lexer": "ipython3",
   "version": "3.6.8"
  }
 },
 "nbformat": 4,
 "nbformat_minor": 1
}
